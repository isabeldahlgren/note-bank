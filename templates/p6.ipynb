{
 "cells": [
  {
   "cell_type": "code",
   "execution_count": 23,
   "metadata": {},
   "outputs": [],
   "source": [
    "import numpy as np\n",
    "from scipy import stats"
   ]
  },
  {
   "cell_type": "markdown",
   "metadata": {},
   "source": [
    "Problem 5"
   ]
  },
  {
   "cell_type": "code",
   "execution_count": 20,
   "metadata": {},
   "outputs": [],
   "source": [
    "def normal_update(mu, tau2, sigma2, x):\n",
    "    mu = (mu / tau2 + np.sum(x) / sigma2) / (1 / tau2 + len(x) / sigma2)\n",
    "    tau2 = 1 / (1 / tau2 + len(x) / sigma2)\n",
    "    return mu, tau2"
   ]
  },
  {
   "cell_type": "code",
   "execution_count": 25,
   "metadata": {},
   "outputs": [
    {
     "data": {
      "text/plain": [
       "0.7427995295677365"
      ]
     },
     "execution_count": 25,
     "metadata": {},
     "output_type": "execute_result"
    }
   ],
   "source": [
    "x = [float(num) for num in \"1.05 3.07 2.57 -1.79 -0.30\".split(\" \")]\n",
    "mu, tau2 = normal_update(0, 16, 1.6, x)\n",
    "tau2 += 1.6\n",
    "\n",
    "1 - stats.norm.cdf(0, mu, np.sqrt(tau2))"
   ]
  },
  {
   "cell_type": "markdown",
   "metadata": {},
   "source": [
    "Problem 8"
   ]
  },
  {
   "cell_type": "code",
   "execution_count": 29,
   "metadata": {},
   "outputs": [
    {
     "data": {
      "text/plain": [
       "0.007238515032471817"
      ]
     },
     "execution_count": 29,
     "metadata": {},
     "output_type": "execute_result"
    }
   ],
   "source": [
    "alpha = 2\n",
    "lam = 3\n",
    "\n",
    "x = [int(val) for val in \"7 8 21 15 40 28 50 10\".split()]\n",
    "p = [int(val) for val in \"1 1 3 3 4 2 8 1\".split()]\n",
    "\n",
    "Y = stats.nbinom(alpha + np.sum(x), 1 - 1 / (lam + np.sum(p) + 1))\n",
    "Y.pmf(1)"
   ]
  },
  {
   "cell_type": "code",
   "execution_count": null,
   "metadata": {},
   "outputs": [],
   "source": []
  }
 ],
 "metadata": {
  "kernelspec": {
   "display_name": "Python 3.10.5 64-bit",
   "language": "python",
   "name": "python3"
  },
  "language_info": {
   "codemirror_mode": {
    "name": "ipython",
    "version": 3
   },
   "file_extension": ".py",
   "mimetype": "text/x-python",
   "name": "python",
   "nbconvert_exporter": "python",
   "pygments_lexer": "ipython3",
   "version": "3.10.5"
  },
  "orig_nbformat": 4,
  "vscode": {
   "interpreter": {
    "hash": "aee8b7b246df8f9039afb4144a1f6fd8d2ca17a180786b69acc140d282b71a49"
   }
  }
 },
 "nbformat": 4,
 "nbformat_minor": 2
}
